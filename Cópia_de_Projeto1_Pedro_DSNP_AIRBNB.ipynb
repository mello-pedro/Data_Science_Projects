{
  "nbformat": 4,
  "nbformat_minor": 0,
  "metadata": {
    "colab": {
      "provenance": [],
      "authorship_tag": "ABX9TyMO+VlZTQxd/3b98k2ZoDDI",
      "include_colab_link": true
    },
    "kernelspec": {
      "name": "python3",
      "display_name": "Python 3"
    },
    "language_info": {
      "name": "python"
    }
  },
  "cells": [
    {
      "cell_type": "markdown",
      "metadata": {
        "id": "view-in-github",
        "colab_type": "text"
      },
      "source": [
        "<a href=\"https://colab.research.google.com/github/mello-pedro/Data_Science_Projects/blob/main/C%C3%B3pia_de_Projeto1_Pedro_DSNP_AIRBNB.ipynb\" target=\"_parent\"><img src=\"https://colab.research.google.com/assets/colab-badge.svg\" alt=\"Open In Colab\"/></a>"
      ]
    },
    {
      "cell_type": "markdown",
      "source": [
        "\n",
        "\n",
        "#### **Data Science - Beginner Project**\n",
        "*by [Pedro Mello](https://github.com/mello-pedro)*\n",
        "\n",
        "---\n",
        "\n",
        "# Analysing data from Airbnb - Firenze\n",
        "\n",
        "[Airbnb](https://www.airbnb.com.br/) is actually considered as the **biggest hotel enterprise in the world**. But, the curious thing about it is: **They don't own any hotel!**\n",
        "\n",
        "As a frequent traveler I've stayed many times in AirBnb apartments, cause is cheaper than hotels and I feel really conected with the city and the people who live there.\n",
        "\n",
        "So I decided to use AirBnb data on my first data science project because I really want to understand better the business, and help to improve the comunitty.\n",
        "\n",
        "All the data analysed in this notebook came from the website [Inside Airbnb](http://insideairbnb.com/get-the-data.html), the official data website of the AirBnb platform.\n",
        "\n",
        "So after this brief introduction, let's go to the data and see the possible insights that we can extract with simple techniques.\n"
      ],
      "metadata": {
        "id": "phtVf_0_OaKX"
      }
    },
    {
      "cell_type": "markdown",
      "source": [
        "## GETTING THE DATA\n",
        "\n",
        "All the data used here I took from the website [Inside Airbnb](http://insideairbnb.com/get-the-data.html).\n",
        "\n",
        "For a simple exploratory analysis like this, I used only the data of\n",
        "`listings.csv` - *Summary information and metrics for listings in Florence (good for visualisations).*"
      ],
      "metadata": {
        "id": "XHBc3p6nAer5"
      }
    },
    {
      "cell_type": "code",
      "source": [
        "import pandas as pd\n",
        "import matplotlib.pyplot as plt\n",
        "import seaborn as sns\n",
        "\n",
        "%matplotlib inline"
      ],
      "metadata": {
        "id": "yv3dB74xAkou"
      },
      "execution_count": null,
      "outputs": []
    },
    {
      "cell_type": "code",
      "source": [
        "df = pd.read_csv('http://data.insideairbnb.com/italy/toscana/florence/2022-06-11/visualisations/listings.csv', index_col='id')\n",
        "df.head()"
      ],
      "metadata": {
        "colab": {
          "base_uri": "https://localhost:8080/",
          "height": 527
        },
        "id": "Wn5M-jomA7zr",
        "outputId": "29ffc6ec-e76f-461b-bf14-eb0ce36999b2"
      },
      "execution_count": null,
      "outputs": [
        {
          "output_type": "execute_result",
          "data": {
            "text/plain": [
              "                                                 name    host_id  \\\n",
              "id                                                                 \n",
              "85820                Salcio room in B&B La Martellina     470473   \n",
              "20078945                              Casa Bonannia O  141678952   \n",
              "24469             Fortezza/City Centre Modern Apt 2+2      99178   \n",
              "463942    BB Casa Schlatter Artist's Atelier. Room #3    2272298   \n",
              "182984             Central, quiet near the Old Bridge     877420   \n",
              "\n",
              "                      host_name  neighbourhood_group      neighbourhood  \\\n",
              "id                                                                        \n",
              "85820                   Claudio                  NaN     Campo di Marte   \n",
              "20078945        Summer In Italy                  NaN  Gavinana Galluzzo   \n",
              "24469     Benedetta And Lorenzo                  NaN     Centro Storico   \n",
              "463942               Alessandra                  NaN     Campo di Marte   \n",
              "182984                  Filippo                  NaN     Centro Storico   \n",
              "\n",
              "          latitude  longitude        room_type  price  minimum_nights  \\\n",
              "id                                                                      \n",
              "85820     43.76632   11.34166     Private room    104               2   \n",
              "20078945  43.72672   11.28301  Entire home/apt    195              90   \n",
              "24469     43.78210   11.24392  Entire home/apt     80               2   \n",
              "463942    43.78144   11.28003     Private room     70               3   \n",
              "182984    43.76554   11.25860  Entire home/apt    110               6   \n",
              "\n",
              "          number_of_reviews last_review  reviews_per_month  \\\n",
              "id                                                           \n",
              "85820                    15  2021-08-16               0.16   \n",
              "20078945                  0         NaN                NaN   \n",
              "24469                     1  2019-09-27               0.03   \n",
              "463942                    9  2022-05-21               0.09   \n",
              "182984                   12  2022-04-28               0.12   \n",
              "\n",
              "          calculated_host_listings_count  availability_365  \\\n",
              "id                                                           \n",
              "85820                                  4               294   \n",
              "20078945                               3                 0   \n",
              "24469                                  4               275   \n",
              "463942                                 4               259   \n",
              "182984                                 1               232   \n",
              "\n",
              "          number_of_reviews_ltm license  \n",
              "id                                       \n",
              "85820                         1     NaN  \n",
              "20078945                      0     NaN  \n",
              "24469                         0     NaN  \n",
              "463942                        2     NaN  \n",
              "182984                        4     NaN  "
            ],
            "text/html": [
              "\n",
              "  <div id=\"df-919ba52d-bf5b-40a7-a35f-437a2839e36c\">\n",
              "    <div class=\"colab-df-container\">\n",
              "      <div>\n",
              "<style scoped>\n",
              "    .dataframe tbody tr th:only-of-type {\n",
              "        vertical-align: middle;\n",
              "    }\n",
              "\n",
              "    .dataframe tbody tr th {\n",
              "        vertical-align: top;\n",
              "    }\n",
              "\n",
              "    .dataframe thead th {\n",
              "        text-align: right;\n",
              "    }\n",
              "</style>\n",
              "<table border=\"1\" class=\"dataframe\">\n",
              "  <thead>\n",
              "    <tr style=\"text-align: right;\">\n",
              "      <th></th>\n",
              "      <th>name</th>\n",
              "      <th>host_id</th>\n",
              "      <th>host_name</th>\n",
              "      <th>neighbourhood_group</th>\n",
              "      <th>neighbourhood</th>\n",
              "      <th>latitude</th>\n",
              "      <th>longitude</th>\n",
              "      <th>room_type</th>\n",
              "      <th>price</th>\n",
              "      <th>minimum_nights</th>\n",
              "      <th>number_of_reviews</th>\n",
              "      <th>last_review</th>\n",
              "      <th>reviews_per_month</th>\n",
              "      <th>calculated_host_listings_count</th>\n",
              "      <th>availability_365</th>\n",
              "      <th>number_of_reviews_ltm</th>\n",
              "      <th>license</th>\n",
              "    </tr>\n",
              "    <tr>\n",
              "      <th>id</th>\n",
              "      <th></th>\n",
              "      <th></th>\n",
              "      <th></th>\n",
              "      <th></th>\n",
              "      <th></th>\n",
              "      <th></th>\n",
              "      <th></th>\n",
              "      <th></th>\n",
              "      <th></th>\n",
              "      <th></th>\n",
              "      <th></th>\n",
              "      <th></th>\n",
              "      <th></th>\n",
              "      <th></th>\n",
              "      <th></th>\n",
              "      <th></th>\n",
              "      <th></th>\n",
              "    </tr>\n",
              "  </thead>\n",
              "  <tbody>\n",
              "    <tr>\n",
              "      <th>85820</th>\n",
              "      <td>Salcio room in B&amp;B La Martellina</td>\n",
              "      <td>470473</td>\n",
              "      <td>Claudio</td>\n",
              "      <td>NaN</td>\n",
              "      <td>Campo di Marte</td>\n",
              "      <td>43.76632</td>\n",
              "      <td>11.34166</td>\n",
              "      <td>Private room</td>\n",
              "      <td>104</td>\n",
              "      <td>2</td>\n",
              "      <td>15</td>\n",
              "      <td>2021-08-16</td>\n",
              "      <td>0.16</td>\n",
              "      <td>4</td>\n",
              "      <td>294</td>\n",
              "      <td>1</td>\n",
              "      <td>NaN</td>\n",
              "    </tr>\n",
              "    <tr>\n",
              "      <th>20078945</th>\n",
              "      <td>Casa Bonannia O</td>\n",
              "      <td>141678952</td>\n",
              "      <td>Summer In Italy</td>\n",
              "      <td>NaN</td>\n",
              "      <td>Gavinana Galluzzo</td>\n",
              "      <td>43.72672</td>\n",
              "      <td>11.28301</td>\n",
              "      <td>Entire home/apt</td>\n",
              "      <td>195</td>\n",
              "      <td>90</td>\n",
              "      <td>0</td>\n",
              "      <td>NaN</td>\n",
              "      <td>NaN</td>\n",
              "      <td>3</td>\n",
              "      <td>0</td>\n",
              "      <td>0</td>\n",
              "      <td>NaN</td>\n",
              "    </tr>\n",
              "    <tr>\n",
              "      <th>24469</th>\n",
              "      <td>Fortezza/City Centre Modern Apt 2+2</td>\n",
              "      <td>99178</td>\n",
              "      <td>Benedetta And Lorenzo</td>\n",
              "      <td>NaN</td>\n",
              "      <td>Centro Storico</td>\n",
              "      <td>43.78210</td>\n",
              "      <td>11.24392</td>\n",
              "      <td>Entire home/apt</td>\n",
              "      <td>80</td>\n",
              "      <td>2</td>\n",
              "      <td>1</td>\n",
              "      <td>2019-09-27</td>\n",
              "      <td>0.03</td>\n",
              "      <td>4</td>\n",
              "      <td>275</td>\n",
              "      <td>0</td>\n",
              "      <td>NaN</td>\n",
              "    </tr>\n",
              "    <tr>\n",
              "      <th>463942</th>\n",
              "      <td>BB Casa Schlatter Artist's Atelier. Room #3</td>\n",
              "      <td>2272298</td>\n",
              "      <td>Alessandra</td>\n",
              "      <td>NaN</td>\n",
              "      <td>Campo di Marte</td>\n",
              "      <td>43.78144</td>\n",
              "      <td>11.28003</td>\n",
              "      <td>Private room</td>\n",
              "      <td>70</td>\n",
              "      <td>3</td>\n",
              "      <td>9</td>\n",
              "      <td>2022-05-21</td>\n",
              "      <td>0.09</td>\n",
              "      <td>4</td>\n",
              "      <td>259</td>\n",
              "      <td>2</td>\n",
              "      <td>NaN</td>\n",
              "    </tr>\n",
              "    <tr>\n",
              "      <th>182984</th>\n",
              "      <td>Central, quiet near the Old Bridge</td>\n",
              "      <td>877420</td>\n",
              "      <td>Filippo</td>\n",
              "      <td>NaN</td>\n",
              "      <td>Centro Storico</td>\n",
              "      <td>43.76554</td>\n",
              "      <td>11.25860</td>\n",
              "      <td>Entire home/apt</td>\n",
              "      <td>110</td>\n",
              "      <td>6</td>\n",
              "      <td>12</td>\n",
              "      <td>2022-04-28</td>\n",
              "      <td>0.12</td>\n",
              "      <td>1</td>\n",
              "      <td>232</td>\n",
              "      <td>4</td>\n",
              "      <td>NaN</td>\n",
              "    </tr>\n",
              "  </tbody>\n",
              "</table>\n",
              "</div>\n",
              "      <button class=\"colab-df-convert\" onclick=\"convertToInteractive('df-919ba52d-bf5b-40a7-a35f-437a2839e36c')\"\n",
              "              title=\"Convert this dataframe to an interactive table.\"\n",
              "              style=\"display:none;\">\n",
              "        \n",
              "  <svg xmlns=\"http://www.w3.org/2000/svg\" height=\"24px\"viewBox=\"0 0 24 24\"\n",
              "       width=\"24px\">\n",
              "    <path d=\"M0 0h24v24H0V0z\" fill=\"none\"/>\n",
              "    <path d=\"M18.56 5.44l.94 2.06.94-2.06 2.06-.94-2.06-.94-.94-2.06-.94 2.06-2.06.94zm-11 1L8.5 8.5l.94-2.06 2.06-.94-2.06-.94L8.5 2.5l-.94 2.06-2.06.94zm10 10l.94 2.06.94-2.06 2.06-.94-2.06-.94-.94-2.06-.94 2.06-2.06.94z\"/><path d=\"M17.41 7.96l-1.37-1.37c-.4-.4-.92-.59-1.43-.59-.52 0-1.04.2-1.43.59L10.3 9.45l-7.72 7.72c-.78.78-.78 2.05 0 2.83L4 21.41c.39.39.9.59 1.41.59.51 0 1.02-.2 1.41-.59l7.78-7.78 2.81-2.81c.8-.78.8-2.07 0-2.86zM5.41 20L4 18.59l7.72-7.72 1.47 1.35L5.41 20z\"/>\n",
              "  </svg>\n",
              "      </button>\n",
              "      \n",
              "  <style>\n",
              "    .colab-df-container {\n",
              "      display:flex;\n",
              "      flex-wrap:wrap;\n",
              "      gap: 12px;\n",
              "    }\n",
              "\n",
              "    .colab-df-convert {\n",
              "      background-color: #E8F0FE;\n",
              "      border: none;\n",
              "      border-radius: 50%;\n",
              "      cursor: pointer;\n",
              "      display: none;\n",
              "      fill: #1967D2;\n",
              "      height: 32px;\n",
              "      padding: 0 0 0 0;\n",
              "      width: 32px;\n",
              "    }\n",
              "\n",
              "    .colab-df-convert:hover {\n",
              "      background-color: #E2EBFA;\n",
              "      box-shadow: 0px 1px 2px rgba(60, 64, 67, 0.3), 0px 1px 3px 1px rgba(60, 64, 67, 0.15);\n",
              "      fill: #174EA6;\n",
              "    }\n",
              "\n",
              "    [theme=dark] .colab-df-convert {\n",
              "      background-color: #3B4455;\n",
              "      fill: #D2E3FC;\n",
              "    }\n",
              "\n",
              "    [theme=dark] .colab-df-convert:hover {\n",
              "      background-color: #434B5C;\n",
              "      box-shadow: 0px 1px 3px 1px rgba(0, 0, 0, 0.15);\n",
              "      filter: drop-shadow(0px 1px 2px rgba(0, 0, 0, 0.3));\n",
              "      fill: #FFFFFF;\n",
              "    }\n",
              "  </style>\n",
              "\n",
              "      <script>\n",
              "        const buttonEl =\n",
              "          document.querySelector('#df-919ba52d-bf5b-40a7-a35f-437a2839e36c button.colab-df-convert');\n",
              "        buttonEl.style.display =\n",
              "          google.colab.kernel.accessAllowed ? 'block' : 'none';\n",
              "\n",
              "        async function convertToInteractive(key) {\n",
              "          const element = document.querySelector('#df-919ba52d-bf5b-40a7-a35f-437a2839e36c');\n",
              "          const dataTable =\n",
              "            await google.colab.kernel.invokeFunction('convertToInteractive',\n",
              "                                                     [key], {});\n",
              "          if (!dataTable) return;\n",
              "\n",
              "          const docLinkHtml = 'Like what you see? Visit the ' +\n",
              "            '<a target=\"_blank\" href=https://colab.research.google.com/notebooks/data_table.ipynb>data table notebook</a>'\n",
              "            + ' to learn more about interactive tables.';\n",
              "          element.innerHTML = '';\n",
              "          dataTable['output_type'] = 'display_data';\n",
              "          await google.colab.output.renderOutput(dataTable, element);\n",
              "          const docLink = document.createElement('div');\n",
              "          docLink.innerHTML = docLinkHtml;\n",
              "          element.appendChild(docLink);\n",
              "        }\n",
              "      </script>\n",
              "    </div>\n",
              "  </div>\n",
              "  "
            ]
          },
          "metadata": {},
          "execution_count": 2
        }
      ]
    },
    {
      "cell_type": "markdown",
      "source": [
        "## ANALYSING THE DATA\n",
        "\n",
        "First of all, it's important to say that I'll not use all the variables of the dataset, cause at this moment they don't mean a lot to our analysis. So lets focus our attention on the following variables:\n",
        "\n",
        "* `id` - number of the property id on AirBnb\n",
        "* `name` - name of the property as announced\n",
        "* `host_id` -  property's owner number of identification\n",
        "* `host_name` - property's owner name\n",
        "* `neighbourhood` - neighbourhood's name\n",
        "* `room_type` - informs the type of room that is offered\n",
        "* `price` - price of the rent per day\n",
        "* `minimum_nights` - the minimum amount of nights in the property\n",
        "* `number_of_reviews` - number of reviews the property has\n",
        "* `availability_365` - number of days of availability within 365 days\n",
        "\n",
        "**Continuing, let's create a new dataframe following this easy steps:** "
      ],
      "metadata": {
        "id": "xEEEe4ETCXX1"
      }
    },
    {
      "cell_type": "markdown",
      "source": [
        "### 1- Knowing the names of all columns of the DataFrame"
      ],
      "metadata": {
        "id": "jO47BN5iNqvO"
      }
    },
    {
      "cell_type": "code",
      "source": [
        "df.columns"
      ],
      "metadata": {
        "colab": {
          "base_uri": "https://localhost:8080/"
        },
        "id": "MGEzunReGWfk",
        "outputId": "6f65b2fd-d271-4ce7-fb8b-155cf290d3bc"
      },
      "execution_count": null,
      "outputs": [
        {
          "output_type": "execute_result",
          "data": {
            "text/plain": [
              "Index(['name', 'host_id', 'host_name', 'neighbourhood_group', 'neighbourhood',\n",
              "       'latitude', 'longitude', 'room_type', 'price', 'minimum_nights',\n",
              "       'number_of_reviews', 'last_review', 'reviews_per_month',\n",
              "       'calculated_host_listings_count', 'availability_365',\n",
              "       'number_of_reviews_ltm', 'license'],\n",
              "      dtype='object')"
            ]
          },
          "metadata": {},
          "execution_count": 3
        }
      ]
    },
    {
      "cell_type": "markdown",
      "source": [
        "###2 - Using the pandas property 'info' to have a panoramic view of our DataFrame and understand simple things like null values, number of rows and variable types"
      ],
      "metadata": {
        "id": "pekB5GzsN3WR"
      }
    },
    {
      "cell_type": "code",
      "source": [
        "df.info()"
      ],
      "metadata": {
        "colab": {
          "base_uri": "https://localhost:8080/"
        },
        "id": "ofVQjpcRLDpR",
        "outputId": "69d128ab-3597-4159-9420-dbce31b3ea3e"
      },
      "execution_count": null,
      "outputs": [
        {
          "output_type": "stream",
          "name": "stdout",
          "text": [
            "<class 'pandas.core.frame.DataFrame'>\n",
            "Int64Index: 10748 entries, 85820 to 18904652\n",
            "Data columns (total 17 columns):\n",
            " #   Column                          Non-Null Count  Dtype  \n",
            "---  ------                          --------------  -----  \n",
            " 0   name                            10746 non-null  object \n",
            " 1   host_id                         10748 non-null  int64  \n",
            " 2   host_name                       10748 non-null  object \n",
            " 3   neighbourhood_group             0 non-null      float64\n",
            " 4   neighbourhood                   10748 non-null  object \n",
            " 5   latitude                        10748 non-null  float64\n",
            " 6   longitude                       10748 non-null  float64\n",
            " 7   room_type                       10748 non-null  object \n",
            " 8   price                           10748 non-null  int64  \n",
            " 9   minimum_nights                  10748 non-null  int64  \n",
            " 10  number_of_reviews               10748 non-null  int64  \n",
            " 11  last_review                     9019 non-null   object \n",
            " 12  reviews_per_month               9019 non-null   float64\n",
            " 13  calculated_host_listings_count  10748 non-null  int64  \n",
            " 14  availability_365                10748 non-null  int64  \n",
            " 15  number_of_reviews_ltm           10748 non-null  int64  \n",
            " 16  license                         863 non-null    object \n",
            "dtypes: float64(4), int64(7), object(6)\n",
            "memory usage: 1.5+ MB\n"
          ]
        }
      ]
    },
    {
      "cell_type": "markdown",
      "source": [
        "###3- Calculating the frequency of the null values and their possible impact on our Data"
      ],
      "metadata": {
        "id": "EbIlkz1aOfAr"
      }
    },
    {
      "cell_type": "code",
      "source": [
        "df.isnull().sum() / df.shape[0] * 100"
      ],
      "metadata": {
        "colab": {
          "base_uri": "https://localhost:8080/"
        },
        "id": "z-Zv96TtLHSG",
        "outputId": "941fed94-0e7e-4620-b8f6-cfe94a4cc575"
      },
      "execution_count": null,
      "outputs": [
        {
          "output_type": "execute_result",
          "data": {
            "text/plain": [
              "name                                0.018608\n",
              "host_id                             0.000000\n",
              "host_name                           0.000000\n",
              "neighbourhood_group               100.000000\n",
              "neighbourhood                       0.000000\n",
              "latitude                            0.000000\n",
              "longitude                           0.000000\n",
              "room_type                           0.000000\n",
              "price                               0.000000\n",
              "minimum_nights                      0.000000\n",
              "number_of_reviews                   0.000000\n",
              "last_review                        16.086714\n",
              "reviews_per_month                  16.086714\n",
              "calculated_host_listings_count      0.000000\n",
              "availability_365                    0.000000\n",
              "number_of_reviews_ltm               0.000000\n",
              "license                            91.970599\n",
              "dtype: float64"
            ]
          },
          "metadata": {},
          "execution_count": 5
        }
      ]
    },
    {
      "cell_type": "markdown",
      "source": [
        "**As we can see clearly, we have 100% of null values on Column 'neighbourhood_group ' and almost 100% of null values on Column 'license'.\n",
        "At this time, as a beginner, I'll drop this columns cause they don't impact my analysis.\n",
        "But, it doesn't mean that we have to remove a column all the times when we see empty values on that.**"
      ],
      "metadata": {
        "id": "ZF5dLOMJP0OM"
      }
    },
    {
      "cell_type": "markdown",
      "source": [
        "##After this first analysis, let's finally create our new and definitive DataFrame:"
      ],
      "metadata": {
        "id": "ociqSnJGQ8e0"
      }
    },
    {
      "cell_type": "code",
      "source": [
        "new_df = df[['name', 'host_id', 'host_name', 'neighbourhood', 'room_type', 'price', 'minimum_nights', 'number_of_reviews', 'availability_365']]\n",
        "new_df.head()"
      ],
      "metadata": {
        "colab": {
          "base_uri": "https://localhost:8080/",
          "height": 238
        },
        "id": "YswzBsLmGvyc",
        "outputId": "b6b693df-b728-4a58-f8f7-3529223bc90f"
      },
      "execution_count": null,
      "outputs": [
        {
          "output_type": "execute_result",
          "data": {
            "text/plain": [
              "                                                 name    host_id  \\\n",
              "id                                                                 \n",
              "85820                Salcio room in B&B La Martellina     470473   \n",
              "20078945                              Casa Bonannia O  141678952   \n",
              "24469             Fortezza/City Centre Modern Apt 2+2      99178   \n",
              "463942    BB Casa Schlatter Artist's Atelier. Room #3    2272298   \n",
              "182984             Central, quiet near the Old Bridge     877420   \n",
              "\n",
              "                      host_name      neighbourhood        room_type  price  \\\n",
              "id                                                                           \n",
              "85820                   Claudio     Campo di Marte     Private room    104   \n",
              "20078945        Summer In Italy  Gavinana Galluzzo  Entire home/apt    195   \n",
              "24469     Benedetta And Lorenzo     Centro Storico  Entire home/apt     80   \n",
              "463942               Alessandra     Campo di Marte     Private room     70   \n",
              "182984                  Filippo     Centro Storico  Entire home/apt    110   \n",
              "\n",
              "          minimum_nights  number_of_reviews  availability_365  \n",
              "id                                                             \n",
              "85820                  2                 15               294  \n",
              "20078945              90                  0                 0  \n",
              "24469                  2                  1               275  \n",
              "463942                 3                  9               259  \n",
              "182984                 6                 12               232  "
            ],
            "text/html": [
              "\n",
              "  <div id=\"df-42ccf93d-6284-4eb3-9f69-d1c9e47a7a8f\">\n",
              "    <div class=\"colab-df-container\">\n",
              "      <div>\n",
              "<style scoped>\n",
              "    .dataframe tbody tr th:only-of-type {\n",
              "        vertical-align: middle;\n",
              "    }\n",
              "\n",
              "    .dataframe tbody tr th {\n",
              "        vertical-align: top;\n",
              "    }\n",
              "\n",
              "    .dataframe thead th {\n",
              "        text-align: right;\n",
              "    }\n",
              "</style>\n",
              "<table border=\"1\" class=\"dataframe\">\n",
              "  <thead>\n",
              "    <tr style=\"text-align: right;\">\n",
              "      <th></th>\n",
              "      <th>name</th>\n",
              "      <th>host_id</th>\n",
              "      <th>host_name</th>\n",
              "      <th>neighbourhood</th>\n",
              "      <th>room_type</th>\n",
              "      <th>price</th>\n",
              "      <th>minimum_nights</th>\n",
              "      <th>number_of_reviews</th>\n",
              "      <th>availability_365</th>\n",
              "    </tr>\n",
              "    <tr>\n",
              "      <th>id</th>\n",
              "      <th></th>\n",
              "      <th></th>\n",
              "      <th></th>\n",
              "      <th></th>\n",
              "      <th></th>\n",
              "      <th></th>\n",
              "      <th></th>\n",
              "      <th></th>\n",
              "      <th></th>\n",
              "    </tr>\n",
              "  </thead>\n",
              "  <tbody>\n",
              "    <tr>\n",
              "      <th>85820</th>\n",
              "      <td>Salcio room in B&amp;B La Martellina</td>\n",
              "      <td>470473</td>\n",
              "      <td>Claudio</td>\n",
              "      <td>Campo di Marte</td>\n",
              "      <td>Private room</td>\n",
              "      <td>104</td>\n",
              "      <td>2</td>\n",
              "      <td>15</td>\n",
              "      <td>294</td>\n",
              "    </tr>\n",
              "    <tr>\n",
              "      <th>20078945</th>\n",
              "      <td>Casa Bonannia O</td>\n",
              "      <td>141678952</td>\n",
              "      <td>Summer In Italy</td>\n",
              "      <td>Gavinana Galluzzo</td>\n",
              "      <td>Entire home/apt</td>\n",
              "      <td>195</td>\n",
              "      <td>90</td>\n",
              "      <td>0</td>\n",
              "      <td>0</td>\n",
              "    </tr>\n",
              "    <tr>\n",
              "      <th>24469</th>\n",
              "      <td>Fortezza/City Centre Modern Apt 2+2</td>\n",
              "      <td>99178</td>\n",
              "      <td>Benedetta And Lorenzo</td>\n",
              "      <td>Centro Storico</td>\n",
              "      <td>Entire home/apt</td>\n",
              "      <td>80</td>\n",
              "      <td>2</td>\n",
              "      <td>1</td>\n",
              "      <td>275</td>\n",
              "    </tr>\n",
              "    <tr>\n",
              "      <th>463942</th>\n",
              "      <td>BB Casa Schlatter Artist's Atelier. Room #3</td>\n",
              "      <td>2272298</td>\n",
              "      <td>Alessandra</td>\n",
              "      <td>Campo di Marte</td>\n",
              "      <td>Private room</td>\n",
              "      <td>70</td>\n",
              "      <td>3</td>\n",
              "      <td>9</td>\n",
              "      <td>259</td>\n",
              "    </tr>\n",
              "    <tr>\n",
              "      <th>182984</th>\n",
              "      <td>Central, quiet near the Old Bridge</td>\n",
              "      <td>877420</td>\n",
              "      <td>Filippo</td>\n",
              "      <td>Centro Storico</td>\n",
              "      <td>Entire home/apt</td>\n",
              "      <td>110</td>\n",
              "      <td>6</td>\n",
              "      <td>12</td>\n",
              "      <td>232</td>\n",
              "    </tr>\n",
              "  </tbody>\n",
              "</table>\n",
              "</div>\n",
              "      <button class=\"colab-df-convert\" onclick=\"convertToInteractive('df-42ccf93d-6284-4eb3-9f69-d1c9e47a7a8f')\"\n",
              "              title=\"Convert this dataframe to an interactive table.\"\n",
              "              style=\"display:none;\">\n",
              "        \n",
              "  <svg xmlns=\"http://www.w3.org/2000/svg\" height=\"24px\"viewBox=\"0 0 24 24\"\n",
              "       width=\"24px\">\n",
              "    <path d=\"M0 0h24v24H0V0z\" fill=\"none\"/>\n",
              "    <path d=\"M18.56 5.44l.94 2.06.94-2.06 2.06-.94-2.06-.94-.94-2.06-.94 2.06-2.06.94zm-11 1L8.5 8.5l.94-2.06 2.06-.94-2.06-.94L8.5 2.5l-.94 2.06-2.06.94zm10 10l.94 2.06.94-2.06 2.06-.94-2.06-.94-.94-2.06-.94 2.06-2.06.94z\"/><path d=\"M17.41 7.96l-1.37-1.37c-.4-.4-.92-.59-1.43-.59-.52 0-1.04.2-1.43.59L10.3 9.45l-7.72 7.72c-.78.78-.78 2.05 0 2.83L4 21.41c.39.39.9.59 1.41.59.51 0 1.02-.2 1.41-.59l7.78-7.78 2.81-2.81c.8-.78.8-2.07 0-2.86zM5.41 20L4 18.59l7.72-7.72 1.47 1.35L5.41 20z\"/>\n",
              "  </svg>\n",
              "      </button>\n",
              "      \n",
              "  <style>\n",
              "    .colab-df-container {\n",
              "      display:flex;\n",
              "      flex-wrap:wrap;\n",
              "      gap: 12px;\n",
              "    }\n",
              "\n",
              "    .colab-df-convert {\n",
              "      background-color: #E8F0FE;\n",
              "      border: none;\n",
              "      border-radius: 50%;\n",
              "      cursor: pointer;\n",
              "      display: none;\n",
              "      fill: #1967D2;\n",
              "      height: 32px;\n",
              "      padding: 0 0 0 0;\n",
              "      width: 32px;\n",
              "    }\n",
              "\n",
              "    .colab-df-convert:hover {\n",
              "      background-color: #E2EBFA;\n",
              "      box-shadow: 0px 1px 2px rgba(60, 64, 67, 0.3), 0px 1px 3px 1px rgba(60, 64, 67, 0.15);\n",
              "      fill: #174EA6;\n",
              "    }\n",
              "\n",
              "    [theme=dark] .colab-df-convert {\n",
              "      background-color: #3B4455;\n",
              "      fill: #D2E3FC;\n",
              "    }\n",
              "\n",
              "    [theme=dark] .colab-df-convert:hover {\n",
              "      background-color: #434B5C;\n",
              "      box-shadow: 0px 1px 3px 1px rgba(0, 0, 0, 0.15);\n",
              "      filter: drop-shadow(0px 1px 2px rgba(0, 0, 0, 0.3));\n",
              "      fill: #FFFFFF;\n",
              "    }\n",
              "  </style>\n",
              "\n",
              "      <script>\n",
              "        const buttonEl =\n",
              "          document.querySelector('#df-42ccf93d-6284-4eb3-9f69-d1c9e47a7a8f button.colab-df-convert');\n",
              "        buttonEl.style.display =\n",
              "          google.colab.kernel.accessAllowed ? 'block' : 'none';\n",
              "\n",
              "        async function convertToInteractive(key) {\n",
              "          const element = document.querySelector('#df-42ccf93d-6284-4eb3-9f69-d1c9e47a7a8f');\n",
              "          const dataTable =\n",
              "            await google.colab.kernel.invokeFunction('convertToInteractive',\n",
              "                                                     [key], {});\n",
              "          if (!dataTable) return;\n",
              "\n",
              "          const docLinkHtml = 'Like what you see? Visit the ' +\n",
              "            '<a target=\"_blank\" href=https://colab.research.google.com/notebooks/data_table.ipynb>data table notebook</a>'\n",
              "            + ' to learn more about interactive tables.';\n",
              "          element.innerHTML = '';\n",
              "          dataTable['output_type'] = 'display_data';\n",
              "          await google.colab.output.renderOutput(dataTable, element);\n",
              "          const docLink = document.createElement('div');\n",
              "          docLink.innerHTML = docLinkHtml;\n",
              "          element.appendChild(docLink);\n",
              "        }\n",
              "      </script>\n",
              "    </div>\n",
              "  </div>\n",
              "  "
            ]
          },
          "metadata": {},
          "execution_count": 6
        }
      ]
    },
    {
      "cell_type": "markdown",
      "source": [
        "##Identifying/Cleaning OUTLIERS\n",
        "\n",
        "At this stage we will analyse the statistic distribution of our dataset, make some boxplots and calculate the limits using the IQR SCORE;\n",
        "\n",
        "The IQR SCORE means the relation between the third quartile(75%) and the first one(25%), represented by the expression (I'm using the 'price' variable as example):\n",
        "\n",
        "**IQR_SCORE = Q3 - Q1**\n",
        "\n",
        "SUP_PRICE = Q3 + 1.5 * IQR_SCORE\n",
        "\n",
        "INF_PRICE = Q1 - 1.5 * IQR_SCORE"
      ],
      "metadata": {
        "id": "rFNEVrL_PoLb"
      }
    },
    {
      "cell_type": "code",
      "source": [
        "new_df.describe().round(1)"
      ],
      "metadata": {
        "colab": {
          "base_uri": "https://localhost:8080/",
          "height": 300
        },
        "id": "Nw-p-cwWSzJ9",
        "outputId": "68267920-b79a-4fad-af29-fb3dcc1ae343"
      },
      "execution_count": null,
      "outputs": [
        {
          "output_type": "execute_result",
          "data": {
            "text/plain": [
              "           host_id    price  minimum_nights  number_of_reviews  \\\n",
              "count      10748.0  10748.0         10748.0            10748.0   \n",
              "mean   106397595.6    188.1             4.5               53.6   \n",
              "std    125047070.4    453.4            27.2               87.9   \n",
              "min        15651.0      9.0             1.0                0.0   \n",
              "25%     12116818.0     70.0             1.0                2.0   \n",
              "50%     46615891.0    108.0             2.0               14.0   \n",
              "75%    165397794.5    189.0             3.0               67.0   \n",
              "max    463404839.0  13375.0          1120.0              894.0   \n",
              "\n",
              "       availability_365  \n",
              "count           10748.0  \n",
              "mean              160.2  \n",
              "std               120.0  \n",
              "min                 0.0  \n",
              "25%                39.0  \n",
              "50%               161.0  \n",
              "75%               272.0  \n",
              "max               365.0  "
            ],
            "text/html": [
              "\n",
              "  <div id=\"df-225329f6-6975-4d62-9127-827c2d710abe\">\n",
              "    <div class=\"colab-df-container\">\n",
              "      <div>\n",
              "<style scoped>\n",
              "    .dataframe tbody tr th:only-of-type {\n",
              "        vertical-align: middle;\n",
              "    }\n",
              "\n",
              "    .dataframe tbody tr th {\n",
              "        vertical-align: top;\n",
              "    }\n",
              "\n",
              "    .dataframe thead th {\n",
              "        text-align: right;\n",
              "    }\n",
              "</style>\n",
              "<table border=\"1\" class=\"dataframe\">\n",
              "  <thead>\n",
              "    <tr style=\"text-align: right;\">\n",
              "      <th></th>\n",
              "      <th>host_id</th>\n",
              "      <th>price</th>\n",
              "      <th>minimum_nights</th>\n",
              "      <th>number_of_reviews</th>\n",
              "      <th>availability_365</th>\n",
              "    </tr>\n",
              "  </thead>\n",
              "  <tbody>\n",
              "    <tr>\n",
              "      <th>count</th>\n",
              "      <td>10748.0</td>\n",
              "      <td>10748.0</td>\n",
              "      <td>10748.0</td>\n",
              "      <td>10748.0</td>\n",
              "      <td>10748.0</td>\n",
              "    </tr>\n",
              "    <tr>\n",
              "      <th>mean</th>\n",
              "      <td>106397595.6</td>\n",
              "      <td>188.1</td>\n",
              "      <td>4.5</td>\n",
              "      <td>53.6</td>\n",
              "      <td>160.2</td>\n",
              "    </tr>\n",
              "    <tr>\n",
              "      <th>std</th>\n",
              "      <td>125047070.4</td>\n",
              "      <td>453.4</td>\n",
              "      <td>27.2</td>\n",
              "      <td>87.9</td>\n",
              "      <td>120.0</td>\n",
              "    </tr>\n",
              "    <tr>\n",
              "      <th>min</th>\n",
              "      <td>15651.0</td>\n",
              "      <td>9.0</td>\n",
              "      <td>1.0</td>\n",
              "      <td>0.0</td>\n",
              "      <td>0.0</td>\n",
              "    </tr>\n",
              "    <tr>\n",
              "      <th>25%</th>\n",
              "      <td>12116818.0</td>\n",
              "      <td>70.0</td>\n",
              "      <td>1.0</td>\n",
              "      <td>2.0</td>\n",
              "      <td>39.0</td>\n",
              "    </tr>\n",
              "    <tr>\n",
              "      <th>50%</th>\n",
              "      <td>46615891.0</td>\n",
              "      <td>108.0</td>\n",
              "      <td>2.0</td>\n",
              "      <td>14.0</td>\n",
              "      <td>161.0</td>\n",
              "    </tr>\n",
              "    <tr>\n",
              "      <th>75%</th>\n",
              "      <td>165397794.5</td>\n",
              "      <td>189.0</td>\n",
              "      <td>3.0</td>\n",
              "      <td>67.0</td>\n",
              "      <td>272.0</td>\n",
              "    </tr>\n",
              "    <tr>\n",
              "      <th>max</th>\n",
              "      <td>463404839.0</td>\n",
              "      <td>13375.0</td>\n",
              "      <td>1120.0</td>\n",
              "      <td>894.0</td>\n",
              "      <td>365.0</td>\n",
              "    </tr>\n",
              "  </tbody>\n",
              "</table>\n",
              "</div>\n",
              "      <button class=\"colab-df-convert\" onclick=\"convertToInteractive('df-225329f6-6975-4d62-9127-827c2d710abe')\"\n",
              "              title=\"Convert this dataframe to an interactive table.\"\n",
              "              style=\"display:none;\">\n",
              "        \n",
              "  <svg xmlns=\"http://www.w3.org/2000/svg\" height=\"24px\"viewBox=\"0 0 24 24\"\n",
              "       width=\"24px\">\n",
              "    <path d=\"M0 0h24v24H0V0z\" fill=\"none\"/>\n",
              "    <path d=\"M18.56 5.44l.94 2.06.94-2.06 2.06-.94-2.06-.94-.94-2.06-.94 2.06-2.06.94zm-11 1L8.5 8.5l.94-2.06 2.06-.94-2.06-.94L8.5 2.5l-.94 2.06-2.06.94zm10 10l.94 2.06.94-2.06 2.06-.94-2.06-.94-.94-2.06-.94 2.06-2.06.94z\"/><path d=\"M17.41 7.96l-1.37-1.37c-.4-.4-.92-.59-1.43-.59-.52 0-1.04.2-1.43.59L10.3 9.45l-7.72 7.72c-.78.78-.78 2.05 0 2.83L4 21.41c.39.39.9.59 1.41.59.51 0 1.02-.2 1.41-.59l7.78-7.78 2.81-2.81c.8-.78.8-2.07 0-2.86zM5.41 20L4 18.59l7.72-7.72 1.47 1.35L5.41 20z\"/>\n",
              "  </svg>\n",
              "      </button>\n",
              "      \n",
              "  <style>\n",
              "    .colab-df-container {\n",
              "      display:flex;\n",
              "      flex-wrap:wrap;\n",
              "      gap: 12px;\n",
              "    }\n",
              "\n",
              "    .colab-df-convert {\n",
              "      background-color: #E8F0FE;\n",
              "      border: none;\n",
              "      border-radius: 50%;\n",
              "      cursor: pointer;\n",
              "      display: none;\n",
              "      fill: #1967D2;\n",
              "      height: 32px;\n",
              "      padding: 0 0 0 0;\n",
              "      width: 32px;\n",
              "    }\n",
              "\n",
              "    .colab-df-convert:hover {\n",
              "      background-color: #E2EBFA;\n",
              "      box-shadow: 0px 1px 2px rgba(60, 64, 67, 0.3), 0px 1px 3px 1px rgba(60, 64, 67, 0.15);\n",
              "      fill: #174EA6;\n",
              "    }\n",
              "\n",
              "    [theme=dark] .colab-df-convert {\n",
              "      background-color: #3B4455;\n",
              "      fill: #D2E3FC;\n",
              "    }\n",
              "\n",
              "    [theme=dark] .colab-df-convert:hover {\n",
              "      background-color: #434B5C;\n",
              "      box-shadow: 0px 1px 3px 1px rgba(0, 0, 0, 0.15);\n",
              "      filter: drop-shadow(0px 1px 2px rgba(0, 0, 0, 0.3));\n",
              "      fill: #FFFFFF;\n",
              "    }\n",
              "  </style>\n",
              "\n",
              "      <script>\n",
              "        const buttonEl =\n",
              "          document.querySelector('#df-225329f6-6975-4d62-9127-827c2d710abe button.colab-df-convert');\n",
              "        buttonEl.style.display =\n",
              "          google.colab.kernel.accessAllowed ? 'block' : 'none';\n",
              "\n",
              "        async function convertToInteractive(key) {\n",
              "          const element = document.querySelector('#df-225329f6-6975-4d62-9127-827c2d710abe');\n",
              "          const dataTable =\n",
              "            await google.colab.kernel.invokeFunction('convertToInteractive',\n",
              "                                                     [key], {});\n",
              "          if (!dataTable) return;\n",
              "\n",
              "          const docLinkHtml = 'Like what you see? Visit the ' +\n",
              "            '<a target=\"_blank\" href=https://colab.research.google.com/notebooks/data_table.ipynb>data table notebook</a>'\n",
              "            + ' to learn more about interactive tables.';\n",
              "          element.innerHTML = '';\n",
              "          dataTable['output_type'] = 'display_data';\n",
              "          await google.colab.output.renderOutput(dataTable, element);\n",
              "          const docLink = document.createElement('div');\n",
              "          docLink.innerHTML = docLinkHtml;\n",
              "          element.appendChild(docLink);\n",
              "        }\n",
              "      </script>\n",
              "    </div>\n",
              "  </div>\n",
              "  "
            ]
          },
          "metadata": {},
          "execution_count": 7
        }
      ]
    },
    {
      "cell_type": "code",
      "source": [
        "new_df.hist(figsize=(15,10));"
      ],
      "metadata": {
        "colab": {
          "base_uri": "https://localhost:8080/",
          "height": 607
        },
        "id": "24ivPfm-OdIy",
        "outputId": "767327ae-62d2-4c27-e3e7-d9d5c96a5a13"
      },
      "execution_count": null,
      "outputs": [
        {
          "output_type": "display_data",
          "data": {
            "text/plain": [
              "<Figure size 1080x720 with 6 Axes>"
            ],
            "image/png": "[encoded data removed]"
          },
          "metadata": {
            "needs_background": "light"
          }
        }
      ]
    },
    {
      "cell_type": "markdown",
      "source": [
        "###WHAT KIND OF INSIGHTS CAN WE EXTRACT FROM THE DATA ABOVE?\n",
        "\n",
        "* The MIN value of **Price** = 9.00 Dolars and the MAX value = 13,375.00 Dolars(!!!!!).\n",
        "* The MIN value of **Minimum_nights** = 1 night and the MAX value = 1,120 Nights (!!!!!).\n",
        "* There is a large gap between price's MEAN and MEDIAN. The same happens with the variable **Minimum_nights**.\n",
        "* The gap is even larger between MEDIAN and MAX values of **price** and **minimum_nights**. So, as we can see clearly, we have some **OUTLIERS** here.\n",
        "* The grafic distribution confirms that we really have some outliers.\n",
        "\n",
        "### Let's treat the OUTLIERS!"
      ],
      "metadata": {
        "id": "Cnfsf8_rFvUm"
      }
    },
    {
      "cell_type": "code",
      "source": [
        "##FIRST FOR THE VARIABLE PRICE\n",
        "q1_price = new_df.price.quantile(.25)\n",
        "q3_price = new_df.price.quantile(.75)\n",
        "iqr_price = q3_price - q1_price\n",
        "print(\"Price's IQR SCORE: \", iqr_price)\n",
        "\n",
        "##setting the limits\n",
        "sup_price = q3_price + 1.5 * iqr_price\n",
        "inf_price = q1_price - 1.5 * iqr_price\n",
        "print(\"Price's superior limit is: \", sup_price)\n",
        "print(\"Price's inferior limit is: \", inf_price)"
      ],
      "metadata": {
        "colab": {
          "base_uri": "https://localhost:8080/"
        },
        "id": "qMf2XoupQ2Ig",
        "outputId": "c3494382-7041-49e2-e053-04f0310f7699"
      },
      "execution_count": null,
      "outputs": [
        {
          "output_type": "stream",
          "name": "stdout",
          "text": [
            "Price's IQR SCORE:  119.0\n",
            "Price's superior limit is:  367.5\n",
            "Price's inferior limit is:  -108.5\n"
          ]
        }
      ]
    },
    {
      "cell_type": "code",
      "source": [
        "##THEN THE VARIABLE MINIMUM NIGHTS\n",
        "q1_nights = new_df.minimum_nights.quantile(.25)\n",
        "q3_nights = new_df.minimum_nights.quantile(.75)\n",
        "iqr_nights = q3_nights - q1_nights\n",
        "print(\"Minimum nights IQR SCORE: \", iqr_nights)\n",
        "\n",
        "##setting the limits\n",
        "sup_nights = q3_nights + 1.5 * iqr_nights\n",
        "inf_nights = q1_nights - 1.5 * iqr_nights\n",
        "print(\"Minimum nights superior limit is: \", sup_nights)\n",
        "print(\"minimum nights inferior limit is: \", inf_nights)"
      ],
      "metadata": {
        "colab": {
          "base_uri": "https://localhost:8080/"
        },
        "id": "F7v7IncA_f_z",
        "outputId": "e08a791c-97af-4429-c648-4af8387c23ec"
      },
      "execution_count": null,
      "outputs": [
        {
          "output_type": "stream",
          "name": "stdout",
          "text": [
            "Minimum nights IQR SCORE:  2.0\n",
            "Minimum nights superior limit is:  6.0\n",
            "minimum nights inferior limit is:  -2.0\n"
          ]
        }
      ]
    },
    {
      "cell_type": "code",
      "source": [
        "##BOXPLOTS TO SEE THE DISTRIBUTION OF THESE OUTLIERS\n",
        "new_df.price.plot(kind='box', vert=False, figsize=(15, 3))\n",
        "plt.show();"
      ],
      "metadata": {
        "colab": {
          "base_uri": "https://localhost:8080/",
          "height": 211
        },
        "id": "F9Av6Yuln3Jn",
        "outputId": "9d283e77-8612-45d3-a098-953914d5bb80"
      },
      "execution_count": null,
      "outputs": [
        {
          "output_type": "display_data",
          "data": {
            "text/plain": [
              "<Figure size 1080x216 with 1 Axes>"
            ],
            "image/png": "[encoded data removed]"
          },
          "metadata": {
            "needs_background": "light"
          }
        }
      ]
    },
    {
      "cell_type": "code",
      "source": [
        "new_df.minimum_nights.plot(kind='box', vert=False, figsize=(15,3))\n",
        "plt.show();"
      ],
      "metadata": {
        "colab": {
          "base_uri": "https://localhost:8080/",
          "height": 211
        },
        "id": "DWSbvsGno2AL",
        "outputId": "e7d681d7-6637-4767-dee4-b3241435f04a"
      },
      "execution_count": null,
      "outputs": [
        {
          "output_type": "display_data",
          "data": {
            "text/plain": [
              "<Figure size 1080x216 with 1 Axes>"
            ],
            "image/png": "[encoded data removed]"
          },
          "metadata": {
            "needs_background": "light"
          }
        }
      ]
    },
    {
      "cell_type": "code",
      "source": [
        "##CLEANING THE NUMBERS BASED ON THE LIMITIS DETERMINED ABOVE\n",
        "new_df_clean = new_df.copy()\n",
        "new_df_clean.drop(new_df_clean[new_df_clean.price > 368].index, axis=0, inplace=True)\n",
        "new_df_clean.drop(new_df_clean[new_df_clean.minimum_nights > 6].index, axis=0, inplace=True)"
      ],
      "metadata": {
        "id": "t_SRs5WgpFeN"
      },
      "execution_count": null,
      "outputs": []
    },
    {
      "cell_type": "code",
      "source": [
        "print('shape before the cleaning: ', new_df.shape)\n",
        "print('shape after the cleaning: ', new_df_clean.shape)"
      ],
      "metadata": {
        "colab": {
          "base_uri": "https://localhost:8080/"
        },
        "id": "2fq02IfCsR_0",
        "outputId": "3c7b9363-4da7-45da-ca1b-439d4aa5f5f3"
      },
      "execution_count": null,
      "outputs": [
        {
          "output_type": "stream",
          "name": "stdout",
          "text": [
            "shape before the cleaning:  (10748, 9)\n",
            "shape after the cleaning:  (9308, 9)\n"
          ]
        }
      ]
    },
    {
      "cell_type": "code",
      "source": [
        "##SEEING THE NEW DISTRIBUTION AFTER THE DATA CLEANING PROCESS\n",
        "new_df_clean.describe().round(1)"
      ],
      "metadata": {
        "colab": {
          "base_uri": "https://localhost:8080/",
          "height": 300
        },
        "id": "LMcPXK-prVyA",
        "outputId": "2926c7ee-58c9-4d70-c87c-457d8f0604d2"
      },
      "execution_count": null,
      "outputs": [
        {
          "output_type": "execute_result",
          "data": {
            "text/plain": [
              "           host_id   price  minimum_nights  number_of_reviews  \\\n",
              "count       9308.0  9308.0          9308.0             9308.0   \n",
              "mean   105415676.5   124.4             2.0               58.1   \n",
              "std    123479871.1    76.3             1.0               91.6   \n",
              "min        33210.0     9.0             1.0                0.0   \n",
              "25%     12257317.0    70.0             1.0                3.0   \n",
              "50%     47819180.5   100.0             2.0               18.0   \n",
              "75%    162377960.2   160.0             2.0               74.0   \n",
              "max    463404839.0   368.0             6.0              894.0   \n",
              "\n",
              "       availability_365  \n",
              "count            9308.0  \n",
              "mean              159.4  \n",
              "std               119.6  \n",
              "min                 0.0  \n",
              "25%                37.0  \n",
              "50%               161.0  \n",
              "75%               272.0  \n",
              "max               365.0  "
            ],
            "text/html": [
              "\n",
              "  <div id=\"df-bc673c6d-3ad0-4686-ba0e-e9f10bcef023\">\n",
              "    <div class=\"colab-df-container\">\n",
              "      <div>\n",
              "<style scoped>\n",
              "    .dataframe tbody tr th:only-of-type {\n",
              "        vertical-align: middle;\n",
              "    }\n",
              "\n",
              "    .dataframe tbody tr th {\n",
              "        vertical-align: top;\n",
              "    }\n",
              "\n",
              "    .dataframe thead th {\n",
              "        text-align: right;\n",
              "    }\n",
              "</style>\n",
              "<table border=\"1\" class=\"dataframe\">\n",
              "  <thead>\n",
              "    <tr style=\"text-align: right;\">\n",
              "      <th></th>\n",
              "      <th>host_id</th>\n",
              "      <th>price</th>\n",
              "      <th>minimum_nights</th>\n",
              "      <th>number_of_reviews</th>\n",
              "      <th>availability_365</th>\n",
              "    </tr>\n",
              "  </thead>\n",
              "  <tbody>\n",
              "    <tr>\n",
              "      <th>count</th>\n",
              "      <td>9308.0</td>\n",
              "      <td>9308.0</td>\n",
              "      <td>9308.0</td>\n",
              "      <td>9308.0</td>\n",
              "      <td>9308.0</td>\n",
              "    </tr>\n",
              "    <tr>\n",
              "      <th>mean</th>\n",
              "      <td>105415676.5</td>\n",
              "      <td>124.4</td>\n",
              "      <td>2.0</td>\n",
              "      <td>58.1</td>\n",
              "      <td>159.4</td>\n",
              "    </tr>\n",
              "    <tr>\n",
              "      <th>std</th>\n",
              "      <td>123479871.1</td>\n",
              "      <td>76.3</td>\n",
              "      <td>1.0</td>\n",
              "      <td>91.6</td>\n",
              "      <td>119.6</td>\n",
              "    </tr>\n",
              "    <tr>\n",
              "      <th>min</th>\n",
              "      <td>33210.0</td>\n",
              "      <td>9.0</td>\n",
              "      <td>1.0</td>\n",
              "      <td>0.0</td>\n",
              "      <td>0.0</td>\n",
              "    </tr>\n",
              "    <tr>\n",
              "      <th>25%</th>\n",
              "      <td>12257317.0</td>\n",
              "      <td>70.0</td>\n",
              "      <td>1.0</td>\n",
              "      <td>3.0</td>\n",
              "      <td>37.0</td>\n",
              "    </tr>\n",
              "    <tr>\n",
              "      <th>50%</th>\n",
              "      <td>47819180.5</td>\n",
              "      <td>100.0</td>\n",
              "      <td>2.0</td>\n",
              "      <td>18.0</td>\n",
              "      <td>161.0</td>\n",
              "    </tr>\n",
              "    <tr>\n",
              "      <th>75%</th>\n",
              "      <td>162377960.2</td>\n",
              "      <td>160.0</td>\n",
              "      <td>2.0</td>\n",
              "      <td>74.0</td>\n",
              "      <td>272.0</td>\n",
              "    </tr>\n",
              "    <tr>\n",
              "      <th>max</th>\n",
              "      <td>463404839.0</td>\n",
              "      <td>368.0</td>\n",
              "      <td>6.0</td>\n",
              "      <td>894.0</td>\n",
              "      <td>365.0</td>\n",
              "    </tr>\n",
              "  </tbody>\n",
              "</table>\n",
              "</div>\n",
              "      <button class=\"colab-df-convert\" onclick=\"convertToInteractive('df-bc673c6d-3ad0-4686-ba0e-e9f10bcef023')\"\n",
              "              title=\"Convert this dataframe to an interactive table.\"\n",
              "              style=\"display:none;\">\n",
              "        \n",
              "  <svg xmlns=\"http://www.w3.org/2000/svg\" height=\"24px\"viewBox=\"0 0 24 24\"\n",
              "       width=\"24px\">\n",
              "    <path d=\"M0 0h24v24H0V0z\" fill=\"none\"/>\n",
              "    <path d=\"M18.56 5.44l.94 2.06.94-2.06 2.06-.94-2.06-.94-.94-2.06-.94 2.06-2.06.94zm-11 1L8.5 8.5l.94-2.06 2.06-.94-2.06-.94L8.5 2.5l-.94 2.06-2.06.94zm10 10l.94 2.06.94-2.06 2.06-.94-2.06-.94-.94-2.06-.94 2.06-2.06.94z\"/><path d=\"M17.41 7.96l-1.37-1.37c-.4-.4-.92-.59-1.43-.59-.52 0-1.04.2-1.43.59L10.3 9.45l-7.72 7.72c-.78.78-.78 2.05 0 2.83L4 21.41c.39.39.9.59 1.41.59.51 0 1.02-.2 1.41-.59l7.78-7.78 2.81-2.81c.8-.78.8-2.07 0-2.86zM5.41 20L4 18.59l7.72-7.72 1.47 1.35L5.41 20z\"/>\n",
              "  </svg>\n",
              "      </button>\n",
              "      \n",
              "  <style>\n",
              "    .colab-df-container {\n",
              "      display:flex;\n",
              "      flex-wrap:wrap;\n",
              "      gap: 12px;\n",
              "    }\n",
              "\n",
              "    .colab-df-convert {\n",
              "      background-color: #E8F0FE;\n",
              "      border: none;\n",
              "      border-radius: 50%;\n",
              "      cursor: pointer;\n",
              "      display: none;\n",
              "      fill: #1967D2;\n",
              "      height: 32px;\n",
              "      padding: 0 0 0 0;\n",
              "      width: 32px;\n",
              "    }\n",
              "\n",
              "    .colab-df-convert:hover {\n",
              "      background-color: #E2EBFA;\n",
              "      box-shadow: 0px 1px 2px rgba(60, 64, 67, 0.3), 0px 1px 3px 1px rgba(60, 64, 67, 0.15);\n",
              "      fill: #174EA6;\n",
              "    }\n",
              "\n",
              "    [theme=dark] .colab-df-convert {\n",
              "      background-color: #3B4455;\n",
              "      fill: #D2E3FC;\n",
              "    }\n",
              "\n",
              "    [theme=dark] .colab-df-convert:hover {\n",
              "      background-color: #434B5C;\n",
              "      box-shadow: 0px 1px 3px 1px rgba(0, 0, 0, 0.15);\n",
              "      filter: drop-shadow(0px 1px 2px rgba(0, 0, 0, 0.3));\n",
              "      fill: #FFFFFF;\n",
              "    }\n",
              "  </style>\n",
              "\n",
              "      <script>\n",
              "        const buttonEl =\n",
              "          document.querySelector('#df-bc673c6d-3ad0-4686-ba0e-e9f10bcef023 button.colab-df-convert');\n",
              "        buttonEl.style.display =\n",
              "          google.colab.kernel.accessAllowed ? 'block' : 'none';\n",
              "\n",
              "        async function convertToInteractive(key) {\n",
              "          const element = document.querySelector('#df-bc673c6d-3ad0-4686-ba0e-e9f10bcef023');\n",
              "          const dataTable =\n",
              "            await google.colab.kernel.invokeFunction('convertToInteractive',\n",
              "                                                     [key], {});\n",
              "          if (!dataTable) return;\n",
              "\n",
              "          const docLinkHtml = 'Like what you see? Visit the ' +\n",
              "            '<a target=\"_blank\" href=https://colab.research.google.com/notebooks/data_table.ipynb>data table notebook</a>'\n",
              "            + ' to learn more about interactive tables.';\n",
              "          element.innerHTML = '';\n",
              "          dataTable['output_type'] = 'display_data';\n",
              "          await google.colab.output.renderOutput(dataTable, element);\n",
              "          const docLink = document.createElement('div');\n",
              "          docLink.innerHTML = docLinkHtml;\n",
              "          element.appendChild(docLink);\n",
              "        }\n",
              "      </script>\n",
              "    </div>\n",
              "  </div>\n",
              "  "
            ]
          },
          "metadata": {},
          "execution_count": 15
        }
      ]
    },
    {
      "cell_type": "code",
      "source": [
        "new_df_clean.hist(figsize=(15,10));"
      ],
      "metadata": {
        "colab": {
          "base_uri": "https://localhost:8080/",
          "height": 607
        },
        "id": "CvrsgT4wrsTP",
        "outputId": "962bb3e9-ea42-4c56-92ff-f2009ffb15c9"
      },
      "execution_count": null,
      "outputs": [
        {
          "output_type": "display_data",
          "data": {
            "text/plain": [
              "<Figure size 1080x720 with 6 Axes>"
            ],
            "image/png": "[encoded data removed]"
          },
          "metadata": {
            "needs_background": "light"
          }
        }
      ]
    },
    {
      "cell_type": "code",
      "source": [
        "new_df_clean.price.plot(kind='box', vert=False, figsize=(15,3))\n",
        "plt.show();"
      ],
      "metadata": {
        "colab": {
          "base_uri": "https://localhost:8080/",
          "height": 211
        },
        "id": "fRYs14XZtMrp",
        "outputId": "85b90b45-517e-4c7b-9b34-4ca7edc5dd41"
      },
      "execution_count": null,
      "outputs": [
        {
          "output_type": "display_data",
          "data": {
            "text/plain": [
              "<Figure size 1080x216 with 1 Axes>"
            ],
            "image/png": "[encoded data removed]"
          },
          "metadata": {
            "needs_background": "light"
          }
        }
      ]
    },
    {
      "cell_type": "code",
      "source": [
        "new_df_clean.minimum_nights.plot(kind='box', vert=False, figsize=(15,3))\n",
        "plt.show();"
      ],
      "metadata": {
        "colab": {
          "base_uri": "https://localhost:8080/",
          "height": 211
        },
        "id": "rqRwRcD7tksv",
        "outputId": "2b294af4-56d4-4a03-b823-48186e245ef1"
      },
      "execution_count": null,
      "outputs": [
        {
          "output_type": "display_data",
          "data": {
            "text/plain": [
              "<Figure size 1080x216 with 1 Axes>"
            ],
            "image/png": "[encoded data removed]"
          },
          "metadata": {
            "needs_background": "light"
          }
        }
      ]
    },
    {
      "cell_type": "markdown",
      "source": [
        "#*NOW WE CAN FINALLY ANSWER SOME QUESTIONS ABOUT OUR DATASET AND THE CITY OF FLORENCE*!\n",
        "\n",
        "\n",
        "## --> **And the first question is: What type of room is the most rented in Florence? And the less rented is??**\n"
      ],
      "metadata": {
        "id": "MBz8gp2Q0Svc"
      }
    },
    {
      "cell_type": "code",
      "source": [
        "new_df_clean.room_type.value_counts(ascending=False)"
      ],
      "metadata": {
        "colab": {
          "base_uri": "https://localhost:8080/"
        },
        "id": "FutNITTy1Xhc",
        "outputId": "f969ab6a-7681-41a4-ec9c-3bc08f3bebfb"
      },
      "execution_count": null,
      "outputs": [
        {
          "output_type": "execute_result",
          "data": {
            "text/plain": [
              "Entire home/apt    7203\n",
              "Private room       1931\n",
              "Hotel room          139\n",
              "Shared room          35\n",
              "Name: room_type, dtype: int64"
            ]
          },
          "metadata": {},
          "execution_count": 19
        }
      ]
    },
    {
      "cell_type": "markdown",
      "source": [
        "###As we can see, **people prefer to rent an entire home/apt on Florence**.\n",
        "On the other hand, shared rooms are not the preference of the travelers at this destination OR the city doesn't have much options of this type of acomodation.\n",
        "\n"
      ],
      "metadata": {
        "id": "67TvGKFA2vg8"
      }
    },
    {
      "cell_type": "markdown",
      "source": [
        "##--> What is the most expensive neighbourhood on Florence?"
      ],
      "metadata": {
        "id": "PYtL5bug3zKN"
      }
    },
    {
      "cell_type": "code",
      "source": [
        "round(new_df_clean.groupby(['neighbourhood']).price.mean().sort_values(ascending=False))"
      ],
      "metadata": {
        "colab": {
          "base_uri": "https://localhost:8080/"
        },
        "id": "QVzn5HDT4LCx",
        "outputId": "f76917fd-d960-435e-be8f-a68055fa573e"
      },
      "execution_count": null,
      "outputs": [
        {
          "output_type": "execute_result",
          "data": {
            "text/plain": [
              "neighbourhood\n",
              "Centro Storico       136.0\n",
              "Gavinana Galluzzo    119.0\n",
              "Campo di Marte        95.0\n",
              "Isolotto Legnaia      85.0\n",
              "Rifredi               82.0\n",
              "Name: price, dtype: float64"
            ]
          },
          "metadata": {},
          "execution_count": 20
        }
      ]
    },
    {
      "cell_type": "code",
      "source": [
        "df_exp = round(new_df_clean.groupby(['neighbourhood']).price.mean().sort_values(ascending=False))\n",
        "plt.figure(figsize = (10,5))\n",
        "plt.bar(data = df_exp, x = df_exp.index, height = df_exp.values, width = 0.8, color = 'red')\n",
        "plt.ylim(0,df_exp.values.max()*1.5)\n",
        "plt.ylabel(\"Average Price\")\n",
        "plt.xlabel(\"Neighbourhood\")\n",
        "for i in range(len(df_exp)):\n",
        "    position = df_exp.index[i]\n",
        "    height = df_exp.values[i]+df_exp.values.max()*0.07\n",
        "    text = str(df_exp.values[i])\n",
        "    plt.text(position,height,text,ha = 'center')\n",
        "plt.show()"
      ],
      "metadata": {
        "colab": {
          "base_uri": "https://localhost:8080/",
          "height": 334
        },
        "id": "zvi6VBnL3dEo",
        "outputId": "baedfb0a-4b3a-4783-c840-a0a9856dccc9"
      },
      "execution_count": null,
      "outputs": [
        {
          "output_type": "display_data",
          "data": {
            "text/plain": [
              "<Figure size 720x360 with 1 Axes>"
            ],
            "image/png": "[encoded data removed]"
          },
          "metadata": {
            "needs_background": "light"
          }
        }
      ]
    },
    {
      "cell_type": "markdown",
      "source": [
        "**Florence's most expensive neighbourhood - on average - is the Centro Storico.**"
      ],
      "metadata": {
        "id": "WPWOD-z5_dbQ"
      }
    },
    {
      "cell_type": "markdown",
      "source": [
        "##-->How many nights on average does a person spend in florence?"
      ],
      "metadata": {
        "id": "OLoHtjGJBfYG"
      }
    },
    {
      "cell_type": "code",
      "source": [
        "nights_mean = new_df_clean.minimum_nights.mean()\n",
        "print('People spend, on average, ', round(nights_mean),'nights in the city of Florence!')"
      ],
      "metadata": {
        "colab": {
          "base_uri": "https://localhost:8080/"
        },
        "id": "1-nydy_0B6sl",
        "outputId": "71e0230e-e7a1-485f-8eba-dea0612b753c"
      },
      "execution_count": null,
      "outputs": [
        {
          "output_type": "stream",
          "name": "stdout",
          "text": [
            "People spend, on average,  2 nights in the city of Florence!\n"
          ]
        }
      ]
    },
    {
      "cell_type": "markdown",
      "source": [
        "##-->How many neighbourhoods are listed on DataFrame?"
      ],
      "metadata": {
        "id": "BJynnd2xFSYx"
      }
    },
    {
      "cell_type": "code",
      "source": [
        "neighb_number = str(len(new_df_clean.neighbourhood.value_counts()))\n",
        "print('The number of Neighbourhoods avaiable on our DataFrame is ', neighb_number, 'Neighbourhoods')"
      ],
      "metadata": {
        "colab": {
          "base_uri": "https://localhost:8080/"
        },
        "id": "-XWpcOelwn3S",
        "outputId": "4ddde5a5-e89c-4a82-a06d-3790c424d967"
      },
      "execution_count": null,
      "outputs": [
        {
          "output_type": "stream",
          "name": "stdout",
          "text": [
            "The number of Neighbourhoods avaiable on our DataFrame is  5 Neighbourhoods\n"
          ]
        }
      ]
    },
    {
      "cell_type": "markdown",
      "source": [
        "##-->What is the percentage of rooms avaiable in each neighbourhood of Florence? "
      ],
      "metadata": {
        "id": "1hgzvFVASZQM"
      }
    },
    {
      "cell_type": "code",
      "source": [
        "plt.figure(figsize = (10,8))\n",
        "df_neighb = new_df_clean['neighbourhood'].value_counts()\n",
        "plt.pie(df_neighb, startangle = 45, autopct = '%1.1f%%', wedgeprops = {'linewidth':0.9, 'edgecolor':'green'}, pctdistance = 1.1,  textprops  = {'color' : 'red', 'fontsize':14})\n",
        "plt.legend(labels = df_neighb.index,loc = 'lower left')\n",
        "plt.title(\"The Percentage of rooms available in Florence \\nIn each neighbourhood\",y = 0.95, fontsize = 20)\n",
        "plt.show()"
      ],
      "metadata": {
        "colab": {
          "base_uri": "https://localhost:8080/",
          "height": 487
        },
        "id": "Y6mIuMA115RP",
        "outputId": "535db262-fc1d-4eb2-95e9-d91ebb3da3ce"
      },
      "execution_count": null,
      "outputs": [
        {
          "output_type": "display_data",
          "data": {
            "text/plain": [
              "<Figure size 720x576 with 1 Axes>"
            ],
            "image/png": "[encoded data removed]"
          },
          "metadata": {}
        }
      ]
    }
  ]
}